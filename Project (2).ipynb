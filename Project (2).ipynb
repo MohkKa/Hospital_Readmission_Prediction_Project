{
 "nbformat": 4,
 "nbformat_minor": 0,
 "metadata": {
  "colab": {
   "provenance": []
  },
  "kernelspec": {
   "name": "python3",
   "display_name": "Python 3"
  },
  "language_info": {
   "name": "python"
  }
 },
 "cells": [
  {
   "cell_type": "code",
   "metadata": {
    "id": "6ZHlxa1Ijw8l"
   },
   "source": [
    "import pandas as pd\n",
    "import numpy as np\n",
    "import seaborn as sns\n",
    "import matplotlib.pyplot as plt"
   ],
   "outputs": [],
   "execution_count": null
  },
  {
   "cell_type": "markdown",
   "source": [
    "Import data and process data"
   ],
   "metadata": {
    "id": "wjvveUaMHl6b"
   }
  },
  {
   "cell_type": "code",
   "source": [
    "# Read the dataset into the dataframe\n",
    "df = pd.read_csv('diabetic_data.csv')"
   ],
   "metadata": {
    "id": "tMOdL1NWmc22"
   },
   "outputs": [],
   "execution_count": null
  },
  {
   "cell_type": "markdown",
   "source": [
    "## **EDA**"
   ],
   "metadata": {
    "id": "Pr2mswhQyB-h"
   }
  },
  {
   "cell_type": "code",
   "source": "df.shape # Check the size of the dataset",
   "metadata": {
    "id": "OFOf_7gymlwe",
    "outputId": "bdc39dee-0d31-46a6-8c8f-332b884fa606",
    "colab": {
     "base_uri": "https://localhost:8080/"
    }
   },
   "outputs": [],
   "execution_count": null
  },
  {
   "cell_type": "code",
   "source": "df.info() # Check the overall information",
   "metadata": {
    "collapsed": true,
    "id": "0-nHs4lkm--0",
    "outputId": "514825e6-bcc0-4a49-92f0-bcecb761e5d8",
    "colab": {
     "base_uri": "https://localhost:8080/"
    }
   },
   "outputs": [],
   "execution_count": null
  },
  {
   "cell_type": "code",
   "source": "df.isnull().sum() # Check the missing values",
   "metadata": {
    "collapsed": true,
    "id": "QmAz-A-EnhUN",
    "outputId": "bf540ead-3c9c-48ee-ce02-f202bca50a4b",
    "colab": {
     "base_uri": "https://localhost:8080/",
     "height": 0
    }
   },
   "outputs": [],
   "execution_count": null
  },
  {
   "cell_type": "code",
   "source": "df.duplicated().sum() # Check the duplicate values",
   "metadata": {
    "id": "NMBw1OZ2nyEO",
    "outputId": "4fd88656-6ec3-4675-edba-42bed537aa9a",
    "colab": {
     "base_uri": "https://localhost:8080/"
    }
   },
   "outputs": [],
   "execution_count": null
  },
  {
   "cell_type": "code",
   "source": [
    "for i in df.select_dtypes(include='object').columns:\n",
    "  print(df[i].value_counts())\n",
    "  print('---' * 10)"
   ],
   "metadata": {
    "collapsed": true,
    "id": "6ebdkZKLoB-j",
    "outputId": "b9641c94-7fe5-48ae-b8ed-1422c6c6ea1c",
    "colab": {
     "base_uri": "https://localhost:8080/"
    }
   },
   "outputs": [],
   "execution_count": null
  },
  {
   "cell_type": "code",
   "source": "df.describe().T # Check the numerical data values",
   "metadata": {
    "collapsed": true,
    "id": "kdykqNIOofN5",
    "outputId": "6913329d-0d1b-4dc2-9bb6-166dfce4ed9d",
    "colab": {
     "base_uri": "https://localhost:8080/",
     "height": 0
    }
   },
   "outputs": [],
   "execution_count": null
  },
  {
   "cell_type": "markdown",
   "source": [
    "Numerical data Distribution"
   ],
   "metadata": {
    "id": "ju1bRmdjIDII"
   }
  },
  {
   "cell_type": "code",
   "source": [
    "for i in df.select_dtypes(include='number').columns:\n",
    "  sns.histplot(data = df, x = i)\n",
    "  plt.show()"
   ],
   "metadata": {
    "id": "xjdBbJ_CpB5V",
    "outputId": "04c309bc-662e-41f2-c87e-6a87c3e43cb4",
    "colab": {
     "base_uri": "https://localhost:8080/",
     "height": 0
    }
   },
   "outputs": [],
   "execution_count": null
  },
  {
   "cell_type": "markdown",
   "source": [
    "Age and Gender Count"
   ],
   "metadata": {
    "id": "0m7AZLQeHy1x"
   }
  },
  {
   "cell_type": "code",
   "source": [
    "# Age and Gender Count\n",
    "age_count = df[\"age\"].value_counts()\n",
    "gender_count = df[\"gender\"].value_counts()\n",
    "fig, (ax1, ax2) = plt.subplots(1, 2, figsize=(16, 5))\n",
    "age_count.plot(kind='bar', ax=ax1, color='skyblue')\n",
    "gender_count.plot(kind='bar', ax=ax2, color='lightcoral')"
   ],
   "metadata": {
    "id": "Y1yk7CsOsFDW",
    "outputId": "b1d838bc-8166-49fd-9adb-4e608a4ee2fc",
    "colab": {
     "base_uri": "https://localhost:8080/",
     "height": 0
    }
   },
   "outputs": [],
   "execution_count": null
  },
  {
   "cell_type": "markdown",
   "source": [
    "Race and Weight Count"
   ],
   "metadata": {
    "id": "QBjxsXHJHz4b"
   }
  },
  {
   "cell_type": "code",
   "source": [
    "# Race and Weight Count\n",
    "race_count = df[\"race\"].value_counts()\n",
    "weight_count = df[\"weight\"].value_counts()\n",
    "fig, (ax1, ax2) = plt.subplots(1, 2, figsize=(16, 5))\n",
    "race_count.plot(kind='bar', ax=ax1, color='mediumseagreen')\n",
    "weight_count.plot(kind='bar', ax=ax2, color='goldenrod')"
   ],
   "metadata": {
    "id": "fcInxoa7tx4P",
    "outputId": "debf5483-490a-4a79-f236-d41961d57ddd",
    "colab": {
     "base_uri": "https://localhost:8080/",
     "height": 0
    }
   },
   "outputs": [],
   "execution_count": null
  },
  {
   "cell_type": "markdown",
   "source": [
    "Readmission Rate Count"
   ],
   "metadata": {
    "id": "3D4772qCHvNU"
   }
  },
  {
   "cell_type": "code",
   "source": [
    "#Readmission Rate Count\n",
    "target_count = df['readmitted'].value_counts()\n",
    "target_count.plot(kind = 'bar', title= 'Readmission Count')"
   ],
   "metadata": {
    "id": "YzEHokaGq0-l",
    "outputId": "57bc3756-d1d2-4c86-c363-0d96b7eeffb1",
    "colab": {
     "base_uri": "https://localhost:8080/",
     "height": 0
    }
   },
   "outputs": [],
   "execution_count": null
  },
  {
   "cell_type": "code",
   "source": [
    "# correlation heatmap to visualize how strongly numerical featuresare related to each other.\n",
    "corr = df.select_dtypes(include = 'number').corr()\n",
    "plt.figure(figsize=(12,8))\n",
    "sns.heatmap(corr, annot=True, cmap='coolwarm')\n",
    "plt.title('Correlation Heatmap')\n",
    "plt.show()"
   ],
   "metadata": {
    "id": "IZ7v12Ruq4CM",
    "outputId": "d9f259c2-63a4-410a-a613-a6a5afa3d05e",
    "colab": {
     "base_uri": "https://localhost:8080/",
     "height": 0
    }
   },
   "outputs": [],
   "execution_count": null
  },
  {
   "cell_type": "code",
   "source": "df.columns # To divide them into diagnosis_cols and",
   "metadata": {
    "id": "ie9RKJJ81cKn",
    "outputId": "7e1857dc-fe4d-4a67-95c5-cc9e3e62348d",
    "colab": {
     "base_uri": "https://localhost:8080/"
    }
   },
   "outputs": [],
   "execution_count": null
  },
  {
   "cell_type": "markdown",
   "source": [
    "Diagnosis vs Readmission"
   ],
   "metadata": {
    "id": "V37hS9_fJFQG"
   }
  },
  {
   "cell_type": "code",
   "source": [
    "diagnosis_cols = ['diag_1', 'diag_2', 'diag_3']\n",
    "\n",
    "# Diagnosis vs Readmission\n",
    "for diag in diagnosis_cols:\n",
    "    plt.figure(figsize=(10, 5))\n",
    "    top10 = df[diag].value_counts().iloc[:10].index  # Top 10 frequent diagnoses\n",
    "    sns.countplot(data=df[df[diag].isin(top10)], x=diag, hue='readmitted')\n",
    "    plt.title(f'{diag} vs Readmission')\n",
    "    plt.xticks(rotation=45)\n",
    "    plt.show()"
   ],
   "metadata": {
    "id": "Xl7eaZQp190y",
    "outputId": "10572370-e176-47d5-dbb0-8c2f96dbddc9",
    "colab": {
     "base_uri": "https://localhost:8080/",
     "height": 0
    }
   },
   "outputs": [],
   "execution_count": null
  },
  {
   "cell_type": "markdown",
   "source": [
    "Medications vs Readmission"
   ],
   "metadata": {
    "id": "QSNDHR2vJaoo"
   }
  },
  {
   "cell_type": "code",
   "source": [
    "medication_cols = [\n",
    "    'metformin', 'repaglinide', 'nateglinide', 'chlorpropamide',\n",
    "    'glimepiride', 'acetohexamide', 'glipizide', 'glyburide', 'tolbutamide',\n",
    "    'pioglitazone', 'rosiglitazone', 'acarbose', 'miglitol', 'troglitazone',\n",
    "    'tolazamide', 'examide', 'citoglipton', 'insulin',\n",
    "    'glyburide-metformin', 'glipizide-metformin',\n",
    "    'glimepiride-pioglitazone', 'metformin-rosiglitazone',\n",
    "    'metformin-pioglitazone'\n",
    "]\n",
    "\n",
    "# Medications vs Readmission\n",
    "for med in medication_cols:\n",
    "    plt.figure(figsize=(8, 5))\n",
    "    sns.countplot(data=df, x=med, hue='readmitted')\n",
    "    plt.title(f'{med} Usage vs Readmission')\n",
    "    plt.xticks(rotation=45)\n",
    "    plt.show()"
   ],
   "metadata": {
    "id": "TqluVeSK2V_j",
    "outputId": "8582b203-fce9-42df-dfbf-88f26633a0da",
    "colab": {
     "base_uri": "https://localhost:8080/",
     "height": 0
    }
   },
   "outputs": [],
   "execution_count": null
  },
  {
   "cell_type": "markdown",
   "source": [
    "# **Data Processing**"
   ],
   "metadata": {
    "id": "QyWmRHnW5lTp"
   }
  },
  {
   "cell_type": "code",
   "source": [
    "missing_info = []\n",
    "\n",
    "# Check missing values for object columns\n",
    "for col in df.select_dtypes(include = 'object').columns:\n",
    "        count_missing = df[col][df[col] == '?'].count()\n",
    "        percent_missing = (count_missing / df.shape[0] * 100).round(2)\n",
    "        missing_info.append([col, count_missing, percent_missing])\n",
    "\n",
    "# Create DataFrame from collected missing info\n",
    "missing_value = pd.DataFrame(missing_info, columns=[\"col\", \"count_missing\", \"percent_missing\"])\n",
    "missing_value = missing_value.sort_values(by=\"percent_missing\", ascending=False)\n",
    "\n",
    "missing_value"
   ],
   "metadata": {
    "colab": {
     "base_uri": "https://localhost:8080/",
     "height": 0
    },
    "id": "stRqkK4W5ueb",
    "outputId": "0b479c36-7e5f-46ff-a488-d6d0cedd07da",
    "collapsed": true
   },
   "outputs": [],
   "execution_count": null
  },
  {
   "cell_type": "code",
   "source": [
    "# Drop 3 columns with too many missing '?'\n",
    "df.drop(['weight', 'payer_code', 'medical_specialty'], axis=1, inplace=True)\n",
    "\n",
    "# Drop rows based on multiple cleaning conditions:\n",
    "df = df.drop(df[\n",
    "    # Drop if all three diagnosis columns are missing ('?')\n",
    "    ((df['diag_1'] == '?') & (df['diag_2'] == '?') & (df['diag_3'] == '?')) |\n",
    "\n",
    "    # Drop specific 'admission_type_id' values: 5 (Not Available), 6 (NULL), 8 (Not Mapped)\n",
    "    (df['admission_type_id'].isin([5, 6, 8])) |\n",
    "\n",
    "    # Drop 'discharge_disposition_id' values indicating death or irrelevant outcomes\n",
    "    (df['discharge_disposition_id'].isin([11, 13, 14, 18, 19, 20, 21, 25, 26])) |\n",
    "\n",
    "    # Drop 'admission_source_id' values that are unavailable, NULL, or not mapped\n",
    "    (df['admission_source_id'].isin([9, 15, 17, 20, 21]))\n",
    "].index)\n"
   ],
   "metadata": {
    "id": "62-qyZ2d6ry4"
   },
   "outputs": [],
   "execution_count": null
  },
  {
   "metadata": {
    "colab": {
     "base_uri": "https://localhost:8080/"
    },
    "id": "LyGU9KV28tzM",
    "outputId": "72913871-588d-4102-fdc3-ac248ca9a6b9"
   },
   "cell_type": "code",
   "source": "df.shape # Check th dimension now",
   "outputs": [],
   "execution_count": null
  },
  {
   "cell_type": "code",
   "source": [
    "# Drop missing values in gender\n",
    "df = df.drop(set(df['gender'][df['gender'] == 'Unknown/Invalid'].index))\n",
    "\n",
    "# Drop missing values in race\n",
    "df = df.drop(set(df['race'][df['race']=='?'].index))"
   ],
   "metadata": {
    "id": "VSg2keZX_NHk"
   },
   "outputs": [],
   "execution_count": null
  },
  {
   "metadata": {
    "colab": {
     "base_uri": "https://localhost:8080/"
    },
    "id": "Ygy7AcWLAMQe",
    "outputId": "a1364b15-a12a-4d84-af25-6bce7d1343be"
   },
   "cell_type": "code",
   "source": "df.shape # Check th dimension now",
   "outputs": [],
   "execution_count": null
  },
  {
   "cell_type": "code",
   "source": [
    "# Drop irrelevant variables\n",
    "df = df.drop([\"encounter_id\",\"patient_nbr\"],axis=1)\n",
    "df = df.drop([\"citoglipton\",\"examide\"],axis = 1)"
   ],
   "metadata": {
    "id": "C5G9YjdfCbPQ"
   },
   "outputs": [],
   "execution_count": null
  },
  {
   "metadata": {
    "colab": {
     "base_uri": "https://localhost:8080/"
    },
    "id": "s6Sj32TlCk0K",
    "outputId": "50b263e0-9c90-4947-9683-337381b9b4cf"
   },
   "cell_type": "code",
   "source": "df.shape # Check th dimension now",
   "outputs": [],
   "execution_count": null
  },
  {
   "metadata": {
    "colab": {
     "base_uri": "https://localhost:8080/",
     "height": 0
    },
    "id": "6LoBf9pbKRDg",
    "outputId": "d1e831f4-6f8b-47a1-8b04-63be4e192d69"
   },
   "cell_type": "code",
   "source": "df['readmitted'].value_counts() # Just to check the difference",
   "outputs": [],
   "execution_count": null
  },
  {
   "cell_type": "code",
   "source": [
    "df.isnull().sum()"
   ],
   "metadata": {
    "colab": {
     "base_uri": "https://localhost:8080/",
     "height": 0
    },
    "id": "afQ_tDIzMBuK",
    "outputId": "8f02e4b8-e006-45de-c2a0-d4b812ec75e3"
   },
   "outputs": [],
   "execution_count": null
  },
  {
   "cell_type": "code",
   "source": [
    "# Drop max_glu_serum because it's almost entirely missing\n",
    "df.drop('max_glu_serum', axis=1, inplace=True)\n",
    "\n",
    "# Fill A1Cresult missing values with 'None'\n",
    "df['A1Cresult'] = df['A1Cresult'].fillna('None')"
   ],
   "metadata": {
    "id": "58qQ1syuNIVq"
   },
   "outputs": [],
   "execution_count": null
  },
  {
   "cell_type": "code",
   "source": [
    "df.shape # Check th dimension now"
   ],
   "metadata": {
    "colab": {
     "base_uri": "https://localhost:8080/"
    },
    "id": "qiSpBEjyNLB6",
    "outputId": "ecaa911e-4d71-48af-f00d-91c81f646141"
   },
   "outputs": [],
   "execution_count": null
  },
  {
   "cell_type": "markdown",
   "source": [
    " Decode ID Columns Using Mapping:"
   ],
   "metadata": {
    "id": "HnoeIIWTpEGq"
   }
  },
  {
   "cell_type": "code",
   "source": [
    "# Decoding IDs using mapping file\n",
    "admission_type_map = {\n",
    "    1: 'Emergency',\n",
    "    2: 'Urgent',\n",
    "    3: 'Elective',\n",
    "    4: 'Newborn',\n",
    "    7: 'Trauma Center',\n",
    "}\n",
    "\n",
    "discharge_disposition_map = {\n",
    "    1: 'Discharged to home',\n",
    "    2: 'Discharged/transferred to another short term hospital',\n",
    "    3: 'Discharged/transferred to SNF',\n",
    "    4: 'Discharged/transferred to ICF',\n",
    "    5: 'Discharged/transferred to another type of inpatient care institution',\n",
    "    6: 'Discharged/transferred to home with home health service',\n",
    "    7: 'Left AMA',\n",
    "    8: 'Discharged/transferred to home under care of Home IV provider',\n",
    "    9: 'Admitted as an inpatient to this hospital',\n",
    "    10: 'Neonate discharged to another hospital for neonatal aftercare',\n",
    "    12: 'Still patient or expected to return for outpatient services',\n",
    "    15: 'Discharged/transferred within this institution to Medicare approved swing bed',\n",
    "    16: 'Discharged/transferred/referred another institution for outpatient services',\n",
    "    17: 'Discharged/transferred to a psychiatric hospital of psychiatric distinct part unit of a hospital',\n",
    "    22: 'Discharged/transferred to another rehab facility including rehab units of a hospital',\n",
    "    23: 'Discharged/transferred to a long term care hospital',\n",
    "    24: 'Discharged/transferred to a nursing facility certified under Medicaid but not certified under Medicare',\n",
    "}\n",
    "\n",
    "admission_source_map = {\n",
    "    1: 'Physician Referral',\n",
    "    2: 'Clinic Referral',\n",
    "    3: 'HMO Referral',\n",
    "    4: 'Transfer from a hospital',\n",
    "    5: 'Transfer from a Skilled Nursing Facility (SNF)',\n",
    "    6: 'Transfer from another health care facility',\n",
    "    7: 'Emergency Room',\n",
    "    8: 'Court/Law Enforcement',\n",
    "    10: 'Transfer from critical access hospital',\n",
    "    11: 'Normal Delivery',\n",
    "    12: 'Premature Delivery',\n",
    "    13: 'Sick Baby',\n",
    "    14: 'Extramural Birth',\n",
    "}\n",
    "\n",
    "df['admission_type_id'] = df['admission_type_id'].replace(admission_type_map)\n",
    "df['discharge_disposition_id'] = df['discharge_disposition_id'].replace(discharge_disposition_map)\n",
    "df['admission_source_id'] = df['admission_source_id'].replace(admission_source_map)"
   ],
   "metadata": {
    "id": "s3LHYHQ1Pat8"
   },
   "outputs": [],
   "execution_count": null
  },
  {
   "cell_type": "code",
   "source": [
    "# Adding some important features\n",
    "df['total_visits'] = df['number_outpatient'] + df['number_emergency'] + df['number_inpatient']\n",
    "df['missing_diag'] = ((df['diag_1'] == '?') | (df['diag_2'] == '?') | (df['diag_3'] == '?')).astype(int)\n",
    "\n",
    "# List of medication columns\n",
    "# Create a new variable to calculate the change of medication dose\n",
    "meds_cols = [\n",
    "    'metformin', 'repaglinide', 'nateglinide', 'chlorpropamide', 'glimepiride', 'glipizide', 'glyburide',\n",
    "    'pioglitazone', 'rosiglitazone', 'acarbose', 'miglitol', 'insulin', 'glyburide-metformin', 'tolazamide',\n",
    "    'metformin-pioglitazone', 'metformin-rosiglitazone', 'glimepiride-pioglitazone',\n",
    "    'glipizide-metformin', 'troglitazone', 'tolbutamide', 'acetohexamide'\n",
    "]\n",
    "\n",
    "# Create new binary columns: 1 if med was changed (up or down), 0 if no change or steady (Some encoding)\n",
    "for col in meds_cols:\n",
    "    new_col = f\"{col}_new\"\n",
    "    df[new_col] = df[col].apply(lambda x: 0 if x in ['No', 'Steady'] else 1)\n",
    "\n",
    "# Sum up all the med changes to create a 'med_change' feature\n",
    "df['med_change'] = df[[f\"{col}_new\" for col in meds_cols]].sum(axis=1)\n",
    "\n",
    "# Drop the temporary binary columns\n",
    "df.drop(columns=[f\"{col}_new\" for col in meds_cols], inplace=True)"
   ],
   "metadata": {
    "id": "tY0n2bSRQDod"
   },
   "outputs": [],
   "execution_count": null
  },
  {
   "cell_type": "code",
   "source": [
    "df['med_change'].value_counts()"
   ],
   "metadata": {
    "colab": {
     "base_uri": "https://localhost:8080/",
     "height": 0
    },
    "id": "KYRiSyvcRClk",
    "outputId": "5b3423be-67fb-4c60-caae-df3d83fbef67"
   },
   "outputs": [],
   "execution_count": null
  },
  {
   "cell_type": "code",
   "source": [
    "# Recode medication columns: 'No' → 0, all others ('Steady', 'Up', 'Down') → 1\n",
    "for col in meds_cols:\n",
    "    df[col] = df[col].replace({'No': 0, 'Steady': 1, 'Up': 1, 'Down': 1})\n",
    "\n",
    "# Create 'num_med' feature: sum across the medication columns\n",
    "df['num_med'] = df[meds_cols].sum(axis=1)"
   ],
   "metadata": {
    "colab": {
     "base_uri": "https://localhost:8080/"
    },
    "id": "KIzF-x3qR51S",
    "outputId": "e600681a-7c4d-4e87-868c-a451eca16137"
   },
   "outputs": [],
   "execution_count": null
  },
  {
   "cell_type": "code",
   "source": [
    "df['num_med'].value_counts()"
   ],
   "metadata": {
    "colab": {
     "base_uri": "https://localhost:8080/",
     "height": 0
    },
    "id": "cg9po1_fSEKq",
    "outputId": "f786b387-22d4-45f4-836d-52665f967814"
   },
   "outputs": [],
   "execution_count": null
  },
  {
   "cell_type": "code",
   "source": [
    "# calculate the outcome variable readmission\n",
    "df['readmitted'] = df['readmitted'].apply(lambda x: 1 if x == '<30' else 0)"
   ],
   "metadata": {
    "id": "LuYXhzpXSq6t"
   },
   "outputs": [],
   "execution_count": null
  },
  {
   "cell_type": "code",
   "source": [
    "# Encode Age\n",
    "age = df['age'].value_counts() # will use it in the eda after processing\n",
    "from sklearn.preprocessing import OneHotEncoder\n",
    "\n",
    "# Initialize OneHotEncoder\n",
    "encoder = OneHotEncoder(sparse_output=False, drop=None)  # Use `drop='first'` to avoid multicollinearity\n",
    "\n",
    "# Fit and transform\n",
    "encoded_data = encoder.fit_transform(df[['age']])\n",
    "\n",
    "# Get feature names\n",
    "feature_names = encoder.get_feature_names_out(['age'])\n",
    "\n",
    "# Convert to DataFrame\n",
    "df_encoded = pd.DataFrame(encoded_data, columns=feature_names, index=df.index)\n",
    "\n",
    "df.drop(columns='age', inplace=True)\n",
    "df = pd.concat([df, df_encoded], axis=1)\n",
    "\n",
    "print(df.head())"
   ],
   "metadata": {
    "id": "cIxeX_5gS1lP"
   },
   "outputs": [],
   "execution_count": null
  },
  {
   "cell_type": "code",
   "source": [
    "df.columns"
   ],
   "metadata": {
    "colab": {
     "base_uri": "https://localhost:8080/"
    },
    "id": "4lPMf26BUD0g",
    "outputId": "e69c9c0c-ca7f-4c0d-d22f-3cb3e1c17e2c"
   },
   "outputs": [],
   "execution_count": null
  },
  {
   "cell_type": "code",
   "source": [
    "df['high_A1C_flag'] = df['A1Cresult'].isin(['>7', '>8']).astype(int)"
   ],
   "metadata": {
    "id": "-W5GJLlPWKxh"
   },
   "outputs": [],
   "execution_count": null
  },
  {
   "cell_type": "code",
   "source": [
    "from sklearn.preprocessing import LabelEncoder\n",
    "\n",
    "# Label Encode 'race', 'A1Cresult', 'max_glu_serum'\n",
    "label_cols = ['race', 'A1Cresult']\n",
    "\n",
    "# Initialize LabelEncoder\n",
    "le = LabelEncoder()\n",
    "\n",
    "for col in label_cols:\n",
    "    df[col] = le.fit_transform(df[col])"
   ],
   "metadata": {
    "id": "XX2XT55qT1TP"
   },
   "outputs": [],
   "execution_count": null
  },
  {
   "cell_type": "code",
   "source": [
    "df['diag_1'].value_counts()"
   ],
   "metadata": {
    "colab": {
     "base_uri": "https://localhost:8080/",
     "height": 0
    },
    "id": "sZbDqxSrXQqI",
    "outputId": "095b838f-f097-4660-e36d-fe0610774548"
   },
   "outputs": [],
   "execution_count": null
  },
  {
   "cell_type": "code",
   "source": [
    "# Safe numeric conversion first\n",
    "df['diag_1_num'] = pd.to_numeric(df['diag_1'], errors='coerce')\n",
    "df['diag_2_num'] = pd.to_numeric(df['diag_2'], errors='coerce')\n",
    "df['diag_3_num'] = pd.to_numeric(df['diag_3'], errors='coerce')\n",
    "\n",
    "# Initialize new columns\n",
    "df['diag_1_code'] = 0\n",
    "df['diag_2_code'] = 0\n",
    "df['diag_3_code'] = 0\n",
    "\n",
    "# Mapping for diag_1\n",
    "df.loc[df['diag_1'].astype(str).str.startswith('V'), 'diag_1_code'] = 1\n",
    "df.loc[df['diag_1'].astype(str).str.startswith('E'), 'diag_1_code'] = 2\n",
    "df.loc[((df['diag_1_num'] >= 390) & (df['diag_1_num'] < 460)) | (df['diag_1_num'] == 785), 'diag_1_code'] = 3\n",
    "df.loc[((df['diag_1_num'] >= 460) & (df['diag_1_num'] < 520)) | (df['diag_1_num'] == 786), 'diag_1_code'] = 4\n",
    "df.loc[((df['diag_1_num'] >= 520) & (df['diag_1_num'] < 580)) | (df['diag_1_num'] == 787), 'diag_1_code'] = 5\n",
    "df.loc[(df['diag_1_num'] >= 250) & (df['diag_1_num'] < 251), 'diag_1_code'] = 6\n",
    "df.loc[(df['diag_1_num'] >= 800) & (df['diag_1_num'] < 1000), 'diag_1_code'] = 7\n",
    "df.loc[(df['diag_1_num'] >= 710) & (df['diag_1_num'] < 740), 'diag_1_code'] = 8\n",
    "df.loc[((df['diag_1_num'] >= 580) & (df['diag_1_num'] < 630)) | (df['diag_1_num'] == 788), 'diag_1_code'] = 9\n",
    "df.loc[(df['diag_1_num'] >= 140) & (df['diag_1_num'] < 240), 'diag_1_code'] = 10\n",
    "\n",
    "# Mapping for diag_2\n",
    "df.loc[df['diag_2'].astype(str).str.startswith('V'), 'diag_2_code'] = 1\n",
    "df.loc[df['diag_2'].astype(str).str.startswith('E'), 'diag_2_code'] = 2\n",
    "df.loc[((df['diag_2_num'] >= 390) & (df['diag_2_num'] < 460)) | (df['diag_2_num'] == 785), 'diag_2_code'] = 3\n",
    "df.loc[((df['diag_2_num'] >= 460) & (df['diag_2_num'] < 520)) | (df['diag_2_num'] == 786), 'diag_2_code'] = 4\n",
    "df.loc[((df['diag_2_num'] >= 520) & (df['diag_2_num'] < 580)) | (df['diag_2_num'] == 787), 'diag_2_code'] = 5\n",
    "df.loc[(df['diag_2_num'] >= 250) & (df['diag_2_num'] < 251), 'diag_2_code'] = 6\n",
    "df.loc[(df['diag_2_num'] >= 800) & (df['diag_2_num'] < 1000), 'diag_2_code'] = 7\n",
    "df.loc[(df['diag_2_num'] >= 710) & (df['diag_2_num'] < 740), 'diag_2_code'] = 8\n",
    "df.loc[((df['diag_2_num'] >= 580) & (df['diag_2_num'] < 630)) | (df['diag_2_num'] == 788), 'diag_2_code'] = 9\n",
    "df.loc[(df['diag_2_num'] >= 140) & (df['diag_2_num'] < 240), 'diag_2_code'] = 10\n",
    "\n",
    "# Mapping for diag_3\n",
    "df.loc[df['diag_3'].astype(str).str.startswith('V'), 'diag_3_code'] = 1\n",
    "df.loc[df['diag_3'].astype(str).str.startswith('E'), 'diag_3_code'] = 2\n",
    "df.loc[((df['diag_3_num'] >= 390) & (df['diag_3_num'] < 460)) | (df['diag_3_num'] == 785), 'diag_3_code'] = 3\n",
    "df.loc[((df['diag_3_num'] >= 460) & (df['diag_3_num'] < 520)) | (df['diag_3_num'] == 786), 'diag_3_code'] = 4\n",
    "df.loc[((df['diag_3_num'] >= 520) & (df['diag_3_num'] < 580)) | (df['diag_3_num'] == 787), 'diag_3_code'] = 5\n",
    "df.loc[(df['diag_3_num'] >= 250) & (df['diag_3_num'] < 251), 'diag_3_code'] = 6\n",
    "df.loc[(df['diag_3_num'] >= 800) & (df['diag_3_num'] < 1000), 'diag_3_code'] = 7\n",
    "df.loc[(df['diag_3_num'] >= 710) & (df['diag_3_num'] < 740), 'diag_3_code'] = 8\n",
    "df.loc[((df['diag_3_num'] >= 580) & (df['diag_3_num'] < 630)) | (df['diag_3_num'] == 788), 'diag_3_code'] = 9\n",
    "df.loc[(df['diag_3_num'] >= 140) & (df['diag_3_num'] < 240), 'diag_3_code'] = 10\n",
    "\n",
    "# Optional: Drop intermediate numeric columns if you want\n",
    "df.drop(['diag_1_num', 'diag_2_num', 'diag_3_num'], axis=1, inplace=True)"
   ],
   "metadata": {
    "id": "_udccVmsZzyV"
   },
   "outputs": [],
   "execution_count": null
  },
  {
   "cell_type": "code",
   "source": [
    "df['diag_1_code'].value_counts()"
   ],
   "metadata": {
    "colab": {
     "base_uri": "https://localhost:8080/",
     "height": 0
    },
    "id": "ij-3tIcGac0F",
    "outputId": "79ec0b19-3edc-4c20-e6e1-1dcf408e8eff"
   },
   "outputs": [],
   "execution_count": null
  },
  {
   "cell_type": "code",
   "source": [
    "df.shape"
   ],
   "metadata": {
    "colab": {
     "base_uri": "https://localhost:8080/"
    },
    "id": "vXauPiX1awbn",
    "outputId": "1df19304-9d26-4f8d-c04b-df10cde47976"
   },
   "outputs": [],
   "execution_count": null
  },
  {
   "cell_type": "code",
   "source": [
    "df.columns"
   ],
   "metadata": {
    "colab": {
     "base_uri": "https://localhost:8080/"
    },
    "id": "N1uSAuYZbYiz",
    "outputId": "d58af4fa-cb05-4fa0-ef72-46e38d59a73b"
   },
   "outputs": [],
   "execution_count": null
  },
  {
   "cell_type": "code",
   "source": [
    "num_col = list(set(list(df._get_numeric_data().columns))- {'readmitted'})\n",
    "num_col"
   ],
   "metadata": {
    "colab": {
     "base_uri": "https://localhost:8080/"
    },
    "id": "EvO8kunzdAkh",
    "outputId": "008ac3d0-3605-4f71-d585-2cbe0eb9a726"
   },
   "outputs": [],
   "execution_count": null
  },
  {
   "cell_type": "code",
   "source": [
    "def standardize(data):\n",
    "    return ((data - np.mean(data, axis = 0)) / np.std(data, axis = 0))\n",
    "# num_col is a list of all numeric features\n",
    "df[num_col] = standardize(df[num_col])"
   ],
   "metadata": {
    "id": "gk2-WAG7coGu"
   },
   "outputs": [],
   "execution_count": null
  },
  {
   "cell_type": "code",
   "source": [
    "# Handle outliers for all numerical columns\n",
    "\n",
    "for col in num_col:\n",
    "    Q1 = df[col].quantile(0.25)\n",
    "    Q3 = df[col].quantile(0.75)\n",
    "    IQR = Q3 - Q1\n",
    "    lower_bound = Q1 - 1.5 * IQR\n",
    "    upper_bound = Q3 + 1.5 * IQR\n",
    "\n",
    "    # Clip the outliers\n",
    "    df[col] = df[col].clip(lower=lower_bound, upper=upper_bound)"
   ],
   "metadata": {
    "id": "Cceqj8fRd5eP"
   },
   "outputs": [],
   "execution_count": null
  },
  {
   "cell_type": "code",
   "source": [
    "df.shape"
   ],
   "metadata": {
    "colab": {
     "base_uri": "https://localhost:8080/"
    },
    "id": "sEDsMr5pd94C",
    "outputId": "d440cf93-b8b5-4912-c8ac-f106d071d7aa"
   },
   "outputs": [],
   "execution_count": null
  },
  {
   "cell_type": "code",
   "source": [
    "df.columns"
   ],
   "metadata": {
    "colab": {
     "base_uri": "https://localhost:8080/"
    },
    "id": "0YFoCnfPeQmP",
    "outputId": "4aa29301-215d-4c1a-9124-4ae9e111a7c2"
   },
   "outputs": [],
   "execution_count": null
  },
  {
   "cell_type": "code",
   "source": [
    "# Columns that are categorical (object type) and need encoding\n",
    "cat_cols = df.select_dtypes(include=['object']).columns.tolist()\n",
    "\n",
    "# Apply LabelEncoder to each categorical column\n",
    "le = LabelEncoder()\n",
    "\n",
    "for col in cat_cols:\n",
    "    df[col] = le.fit_transform(df[col].astype(str))"
   ],
   "metadata": {
    "id": "KR-rDWVSech2"
   },
   "outputs": [],
   "execution_count": null
  },
  {
   "cell_type": "code",
   "source": [
    "df['readmitted'].value_counts()"
   ],
   "metadata": {
    "colab": {
     "base_uri": "https://localhost:8080/",
     "height": 0
    },
    "id": "Wr4FcZbpgfI2",
    "outputId": "8f047d70-1789-4c20-dd4c-75d35b8ef6ce"
   },
   "outputs": [],
   "execution_count": null
  },
  {
   "cell_type": "code",
   "source": [
    "df.isnull().sum() # high_A1C_flag, metformin-rosiglitazone"
   ],
   "metadata": {
    "colab": {
     "base_uri": "https://localhost:8080/",
     "height": 0
    },
    "id": "CH535EHhgtBR",
    "outputId": "06162834-a57e-4072-af64-7572b49a9a9f"
   },
   "outputs": [],
   "execution_count": null
  },
  {
   "cell_type": "code",
   "source": [
    "df = df.drop(['metformin-rosiglitazone', 'high_A1C_flag'], axis = 1)"
   ],
   "metadata": {
    "id": "Hi1j-DTYg5OI"
   },
   "outputs": [],
   "execution_count": null
  },
  {
   "cell_type": "markdown",
   "source": [
    "# **EDA**"
   ],
   "metadata": {
    "id": "dAH3fpsmRD1j"
   }
  },
  {
   "cell_type": "code",
   "source": [
    "df.columns"
   ],
   "metadata": {
    "id": "JBagGe6wA57D",
    "outputId": "a49f66a6-785e-48aa-a15d-3ce24bcb1a97",
    "colab": {
     "base_uri": "https://localhost:8080/"
    }
   },
   "outputs": [],
   "execution_count": null
  },
  {
   "cell_type": "code",
   "source": [
    "for i in df.select_dtypes(include='number').columns:\n",
    "  sns.histplot(data = df, x = i)\n",
    "  plt.show()"
   ],
   "metadata": {
    "id": "_ppMyQeURHA6",
    "outputId": "c8349f07-dc05-4cd2-8558-29537d649c64",
    "colab": {
     "base_uri": "https://localhost:8080/",
     "height": 1000
    }
   },
   "outputs": [],
   "execution_count": null
  },
  {
   "cell_type": "code",
   "source": [
    "# Compute correlation matrix\n",
    "df_corr = df.corr()\n",
    "\n",
    "non_nan_mask = df_corr.notna().any(axis=1)\n",
    "df_coll_clean = df_corr.loc[non_nan_mask, non_nan_mask]\n",
    "\n",
    "# Plot cleaned heatmap\n",
    "plt.figure(figsize=(25, 15))\n",
    "sns.heatmap(df_coll_clean, vmax=.8, square=True, annot=True, cmap='coolwarm', fmt=\".2f\")\n",
    "plt.title('Correlation Heatmap')\n",
    "plt.xticks(rotation=45, ha='right')\n",
    "plt.tight_layout()\n",
    "plt.show()"
   ],
   "metadata": {
    "id": "FqkfIuY2U050",
    "outputId": "3cc7b8ca-1e39-4fb5-feb5-e1ae9c4313be",
    "colab": {
     "base_uri": "https://localhost:8080/",
     "height": 1000
    }
   },
   "outputs": [],
   "execution_count": null
  },
  {
   "cell_type": "code",
   "source": [
    "for i in df.columns:\n",
    "    train = df[i].value_counts()\n",
    "    print(train)"
   ],
   "metadata": {
    "id": "oV-ZMMZ3WEV-",
    "outputId": "b961e8c6-bbe5-4f88-ee95-c4653f0df5fa",
    "colab": {
     "base_uri": "https://localhost:8080/"
    }
   },
   "outputs": [],
   "execution_count": null
  },
  {
   "cell_type": "code",
   "source": [
    "gender_count = df[\"gender\"].value_counts()\n",
    "fig, (ax1, ax2) = plt.subplots(1, 2, figsize=(16, 5))\n",
    "age.plot(kind='bar', ax=ax1, color='skyblue')\n",
    "gender_count.plot(kind='bar', ax=ax2, color='lightcoral')"
   ],
   "metadata": {
    "id": "EOP9QkoaBTrM",
    "outputId": "c83f74cf-0da9-43bf-868f-593f8486debe",
    "colab": {
     "base_uri": "https://localhost:8080/",
     "height": 528
    }
   },
   "outputs": [],
   "execution_count": null
  },
  {
   "cell_type": "markdown",
   "source": [
    "# **Modeling**"
   ],
   "metadata": {
    "id": "1D-bA4mGQeBi"
   }
  },
  {
   "cell_type": "code",
   "source": [
    "# Test just see if all of the above came with profit\n",
    "from sklearn.model_selection import train_test_split\n",
    "from sklearn.linear_model import LogisticRegression\n",
    "from sklearn.metrics import accuracy_score, precision_score, recall_score, f1_score, confusion_matrix, classification_report\n",
    "\n",
    "# Split features and target\n",
    "x = df.drop('readmitted', axis=1)\n",
    "y = df['readmitted']\n",
    "\n",
    "# Stratified train-test split\n",
    "x_train, x_test, y_train, y_test = train_test_split(x, y, test_size=0.2, stratify=y, random_state=0)\n",
    "\n",
    "# Logistic Regression model\n",
    "model = LogisticRegression(max_iter=1000, class_weight='balanced')\n",
    "model.fit(x_train, y_train)\n",
    "\n",
    "# Predict on test set\n",
    "y_pred = model.predict(x_test)\n",
    "\n",
    "# Evaluation Metrics\n",
    "accuracy = accuracy_score(y_test, y_pred)\n",
    "precision = precision_score(y_test, y_pred)\n",
    "recall = recall_score(y_test, y_pred)\n",
    "f1 = f1_score(y_test, y_pred)\n",
    "conf_matrix = confusion_matrix(y_test, y_pred)\n",
    "report = classification_report(y_test, y_pred)\n",
    "\n",
    "# Print all results\n",
    "print(\"Accuracy:\", accuracy)\n",
    "print(\"Precision:\", precision)\n",
    "print(\"Recall:\", recall)\n",
    "print(\"F1 Score:\", f1)\n",
    "print(\"Confusion Matrix:\\n\", conf_matrix)\n",
    "print(\"\\nClassification Report:\\n\", report)"
   ],
   "metadata": {
    "id": "-SRc7zwegpcw",
    "outputId": "8e917804-bb10-4928-8e39-d26a05256656",
    "colab": {
     "base_uri": "https://localhost:8080/"
    }
   },
   "outputs": [],
   "execution_count": null
  },
  {
   "cell_type": "code",
   "source": [
    "from sklearn.model_selection import train_test_split\n",
    "from sklearn.ensemble import RandomForestClassifier\n",
    "from sklearn.metrics import (\n",
    "    accuracy_score, precision_score, recall_score,\n",
    "    f1_score, confusion_matrix, classification_report, roc_auc_score\n",
    ")\n",
    "\n",
    "# Step 1: Split features and target\n",
    "X = df.drop('readmitted', axis=1)\n",
    "y = df['readmitted']\n",
    "\n",
    "# Step 2: Stratified Train-Test Split\n",
    "X_train, X_test, y_train, y_test = train_test_split(\n",
    "    X, y, test_size=0.2, stratify=y, random_state=0\n",
    ")\n",
    "\n",
    "# Step 3: Train Random Forest Classifier\n",
    "rf_model = RandomForestClassifier(\n",
    "    n_estimators=100,\n",
    "    class_weight='balanced',\n",
    "    random_state=0\n",
    ")\n",
    "rf_model.fit(X_train, y_train)\n",
    "\n",
    "# Step 4: Predict\n",
    "y_pred = rf_model.predict(X_test)\n",
    "y_pred_proba = rf_model.predict_proba(X_test)[:, 1]  # Needed for ROC-AUC\n",
    "\n",
    "# Step 5: Evaluate the model\n",
    "accuracy = accuracy_score(y_test, y_pred)\n",
    "precision = precision_score(y_test, y_pred)\n",
    "recall = recall_score(y_test, y_pred)\n",
    "f1 = f1_score(y_test, y_pred)\n",
    "roc_auc = roc_auc_score(y_test, y_pred_proba)\n",
    "conf_matrix = confusion_matrix(y_test, y_pred)\n",
    "report = classification_report(y_test, y_pred)\n",
    "\n",
    "# Step 6: Print results\n",
    "print(\"Accuracy:\", accuracy)\n",
    "print(\"Precision:\", precision)\n",
    "print(\"Recall:\", recall)\n",
    "print(\"F1 Score:\", f1)\n",
    "print(\"ROC-AUC Score:\", roc_auc)\n",
    "print(\"Confusion Matrix:\\n\", conf_matrix)\n",
    "print(\"\\nClassification Report:\\n\", report)\n"
   ],
   "metadata": {
    "id": "0FvAiO9q2J-Q",
    "outputId": "97137c04-9854-41ab-d1f8-ca95a0b47326",
    "colab": {
     "base_uri": "https://localhost:8080/"
    }
   },
   "outputs": [],
   "execution_count": null
  },
  {
   "cell_type": "code",
   "source": [
    "import matplotlib.pyplot as plt\n",
    "from sklearn.metrics import roc_auc_score, roc_curve\n",
    "#ROC AUC\n",
    "\n",
    "# Predict probabilities for the positive class (class 1)\n",
    "y_pred_proba = rf_model.predict_proba(X_test)[:, 1]\n",
    "\n",
    "# Compute False Positive Rate, True Positive Rate, and thresholds\n",
    "fpr, tpr, thresholds = roc_curve(y_test, y_pred_proba)\n",
    "\n",
    "# Compute ROC AUC\n",
    "roc_auc = roc_auc_score(y_test, y_pred_proba)\n",
    "\n",
    "# Plot ROC Curve\n",
    "plt.figure(figsize=(8, 6))\n",
    "plt.plot(fpr, tpr, label=f'Logistic Regression (AUC = {roc_auc:.2f})', color='blue')\n",
    "plt.plot([0, 1], [0, 1], 'k--', label='Random Guessing')\n",
    "plt.xlabel('False Positive Rate')\n",
    "plt.ylabel('True Positive Rate')\n",
    "plt.title('Receiver Operating Characteristic (ROC) Curve')\n",
    "plt.legend(loc='lower right')\n",
    "plt.grid(True)\n",
    "plt.show()\n",
    "\n",
    "# Print AUC Score\n",
    "print(\"ROC AUC Score:\", roc_auc)\n"
   ],
   "metadata": {
    "id": "iYppdeRMydc6",
    "outputId": "968d2b7d-d35e-410b-9a35-86a4d1c4ccd9",
    "colab": {
     "base_uri": "https://localhost:8080/",
     "height": 581
    }
   },
   "outputs": [],
   "execution_count": null
  },
  {
   "cell_type": "markdown",
   "source": [
    "**SMOTE**"
   ],
   "metadata": {
    "id": "p-TJMZOJML1T"
   }
  },
  {
   "cell_type": "code",
   "source": [
    "from imblearn.over_sampling import SMOTE\n",
    "from sklearn.model_selection import train_test_split\n",
    "from sklearn.ensemble import RandomForestClassifier\n",
    "from sklearn.metrics import classification_report, confusion_matrix\n",
    "\n",
    "# Assume X, y are your features and target (readmission: 0 or 1)\n",
    "\n",
    "# Step 1: Split your dataset\n",
    "x_train, x_test, y_train, y_test = train_test_split(\n",
    "    x, y, test_size=0.2, stratify=y, random_state=42\n",
    ")\n",
    "\n",
    "# Step 2: Apply SMOTE to the training set only\n",
    "smote = SMOTE(random_state=42)\n",
    "x_train_resampled, y_train_resampled = smote.fit_resample(x_train, y_train)\n",
    "\n",
    "print(\"Original dataset shape:\", y_train.value_counts())\n",
    "print(\"Resampled dataset shape:\", y_train_resampled.value_counts())\n"
   ],
   "metadata": {
    "id": "aQBok9HdMLBx",
    "outputId": "699aff99-2854-42d8-c946-5c85cf6591d4",
    "colab": {
     "base_uri": "https://localhost:8080/"
    }
   },
   "outputs": [],
   "execution_count": null
  },
  {
   "cell_type": "code",
   "source": [
    "\n",
    "# Step 1: Split features and target\n",
    "X = df.drop('readmitted', axis=1)\n",
    "y = df['readmitted']\n",
    "\n",
    "# Step 2: Stratified Train-Test Split\n",
    "X_train, X_test, y_train, y_test = train_test_split(\n",
    "    X, y, test_size=0.2, stratify=y, random_state=0\n",
    ")\n",
    "\n",
    "# Step 3: Train Random Forest Classifier\n",
    "rf_model = RandomForestClassifier(\n",
    "    n_estimators=100,\n",
    "    class_weight='balanced',\n",
    "    random_state=0\n",
    ")\n",
    "rf_model.fit(x_train_resampled, y_train_resampled)\n",
    "\n",
    "# Step 4: Predict\n",
    "y_pred = rf_model.predict(X_test)\n",
    "y_pred_proba = rf_model.predict_proba(X_test)[:, 1]  # Needed for ROC-AUC\n",
    "\n",
    "# Step 5: Evaluate the model\n",
    "accuracy = accuracy_score(y_test, y_pred)\n",
    "precision = precision_score(y_test, y_pred)\n",
    "recall = recall_score(y_test, y_pred)\n",
    "f1 = f1_score(y_test, y_pred)\n",
    "roc_auc = roc_auc_score(y_test, y_pred_proba)\n",
    "conf_matrix = confusion_matrix(y_test, y_pred)\n",
    "report = classification_report(y_test, y_pred)\n",
    "\n",
    "# Step 6: Print results\n",
    "print(\"Accuracy:\", accuracy)\n",
    "print(\"Precision:\", precision)\n",
    "print(\"Recall:\", recall)\n",
    "print(\"F1 Score:\", f1)\n",
    "print(\"ROC-AUC Score:\", roc_auc)\n",
    "print(\"Confusion Matrix:\\n\", conf_matrix)\n",
    "print(\"\\nClassification Report:\\n\", report)\n",
    "\n",
    "import joblib\n",
    "joblib.dump(rf_model, 'random_forest_model.pkl') # save the model for later gui\n"
   ],
   "metadata": {
    "id": "3rrVnfeON-zd",
    "outputId": "c51229b2-60a5-4091-bffb-b22ebb737b33",
    "colab": {
     "base_uri": "https://localhost:8080/"
    }
   },
   "outputs": [],
   "execution_count": null
  },
  {
   "cell_type": "markdown",
   "source": [
    "True Negatives (TN): 14,577 — non-readmitted correctly predicted.\n",
    "\n",
    "False Positives (FP): 6 — very few non-readmitted misclassified as readmitted.\n",
    "\n",
    "False Negatives (FN): 409 — fewer missed readmitted cases.\n",
    "\n",
    "True Positives (TP): 1,482 — strong correct predictions for readmitted."
   ],
   "metadata": {
    "id": "_CZu4bu6PwxY"
   }
  },
  {
   "cell_type": "code",
   "source": [
    "import matplotlib.pyplot as plt\n",
    "from sklearn.metrics import roc_auc_score, roc_curve\n",
    "#ROC AUC\n",
    "\n",
    "# Predict probabilities for the positive class (class 1)\n",
    "y_pred_proba = rf_model.predict_proba(X_test)[:, 1]\n",
    "\n",
    "# Compute False Positive Rate, True Positive Rate, and thresholds\n",
    "fpr, tpr, thresholds = roc_curve(y_test, y_pred_proba)\n",
    "\n",
    "# Compute ROC AUC\n",
    "roc_auc = roc_auc_score(y_test, y_pred_proba)\n",
    "\n",
    "# Plot ROC Curve\n",
    "plt.figure(figsize=(8, 6))\n",
    "plt.plot(fpr, tpr, label=f'Logistic Regression (AUC = {roc_auc:.2f})', color='blue')\n",
    "plt.plot([0, 1], [0, 1], 'k--', label='Random Guessing')\n",
    "plt.xlabel('False Positive Rate')\n",
    "plt.ylabel('True Positive Rate')\n",
    "plt.title('Receiver Operating Characteristic (ROC) Curve')\n",
    "plt.legend(loc='lower right')\n",
    "plt.grid(True)\n",
    "plt.show()\n",
    "\n",
    "# Print AUC Score\n",
    "print(\"ROC AUC Score:\", roc_auc)\n"
   ],
   "metadata": {
    "id": "RnsvwkGIQLNG",
    "outputId": "bedfe220-8907-4826-bb8a-f9eb19e80bd9",
    "colab": {
     "base_uri": "https://localhost:8080/",
     "height": 581
    }
   },
   "outputs": [],
   "execution_count": null
  },
  {
   "cell_type": "code",
   "source": [
    "from sklearn.metrics import accuracy_score, precision_score, recall_score, f1_score\n",
    "\n",
    "# Fit your model\n",
    "\n",
    "model.fit(x_train_resampled, y_train_resampled)\n",
    "\n",
    "# Predict on training set\n",
    "y_train_pred = model.predict(x_train_resampled)\n",
    "\n",
    "# Predict on test set\n",
    "y_test_pred = model.predict(X_test)\n",
    "\n",
    "# Define a function to print metrics\n",
    "def print_metrics(name, y_true, y_pred):\n",
    "    print(f\"\\n{name} Metrics:\")\n",
    "    print(\"Accuracy :\", accuracy_score(y_true, y_pred))\n",
    "    print(\"Precision:\", precision_score(y_true, y_pred))\n",
    "    print(\"Recall   :\", recall_score(y_true, y_pred))\n",
    "    print(\"F1 Score :\", f1_score(y_true, y_pred))\n",
    "\n",
    "# Compare training and test metrics\n",
    "print_metrics(\"Training\", y_train_resampled, y_train_pred)\n",
    "print_metrics(\"Test\", y_test, y_test_pred)\n"
   ],
   "metadata": {
    "id": "LAnrXvz6Rfou",
    "outputId": "343f4c22-2025-4ff1-d959-a04328a2dd54",
    "colab": {
     "base_uri": "https://localhost:8080/"
    }
   },
   "outputs": [],
   "execution_count": null
  },
  {
   "cell_type": "code",
   "source": [
    "from sklearn.tree import DecisionTreeClassifier\n",
    "from sklearn.metrics import accuracy_score, precision_score, recall_score, f1_score, confusion_matrix\n",
    "import matplotlib.pyplot as plt\n",
    "import seaborn as sns\n",
    "import pandas as pd\n",
    "\n",
    "#  Initialize the Decision Tree (ID3-style: uses 'entropy')\n",
    "dtree = DecisionTreeClassifier(\n",
    "    criterion='entropy',\n",
    "     max_depth=4,\n",
    "    class_weight='balanced',\n",
    "    random_state=42\n",
    ")\n",
    "\n",
    "#  Train on SMOTE-resampled training data\n",
    "dtree.fit(x_train_resampled, y_train_resampled)\n",
    "\n",
    "#  Predict on the original test set\n",
    "y_pred = dtree.predict(X_test)\n",
    "\n",
    "#  Evaluation\n",
    "print(\"Accuracy     :\", accuracy_score(y_test, y_pred))\n",
    "print(\"Precision    :\", precision_score(y_test, y_pred))\n",
    "print(\"Recall       :\", recall_score(y_test, y_pred))\n",
    "print(\"F1 Score     :\", f1_score(y_test, y_pred) )\n"
   ],
   "metadata": {
    "id": "gtAwCCQThTRY",
    "outputId": "a2ccff86-8d6c-4063-cded-6e88475fe4fb",
    "colab": {
     "base_uri": "https://localhost:8080/"
    }
   },
   "outputs": [],
   "execution_count": null
  },
  {
   "cell_type": "code",
   "source": [
    "cm = confusion_matrix(y_test, y_pred)\n",
    "plt.figure(figsize=(5,4))\n",
    "sns.heatmap(cm, annot=True, fmt='d', cmap='Blues')\n",
    "plt.xlabel('Predicted')\n",
    "plt.ylabel('Actual')\n",
    "plt.title('Confusion Matrix (Decision Tree)')\n",
    "plt.show()"
   ],
   "metadata": {
    "collapsed": true,
    "id": "ZewU40bNjh80",
    "outputId": "0e08ad04-37bb-41c3-b4b9-7111e905cbd3",
    "colab": {
     "base_uri": "https://localhost:8080/",
     "height": 410
    }
   },
   "outputs": [],
   "execution_count": null
  },
  {
   "cell_type": "code",
   "source": [
    "feature_importance = pd.DataFrame({\n",
    "    'Feature': x_train_resampled.columns,\n",
    "    'Importance': dtree.feature_importances_\n",
    "}).sort_values(by='Importance', ascending=False).head(10)\n",
    "\n",
    "plt.figure(figsize=(10,6))\n",
    "sns.barplot(data=feature_importance, x='Importance', y='Feature')\n",
    "plt.title('Top 10 Important Features - Decision Tree')\n",
    "plt.xlabel('Importance')\n",
    "plt.ylabel('Feature')\n",
    "plt.tight_layout()\n",
    "plt.show()"
   ],
   "metadata": {
    "collapsed": true,
    "id": "_737dkv0jz63",
    "outputId": "42bce7da-432e-4621-e815-e8478e4209c5",
    "colab": {
     "base_uri": "https://localhost:8080/",
     "height": 607
    }
   },
   "outputs": [],
   "execution_count": null
  },
  {
   "cell_type": "code",
   "source": [
    "from sklearn.tree import plot_tree\n",
    "\n",
    "plt.figure(figsize=(20, 10))\n",
    "plot_tree(dtree,\n",
    "          filled=True,\n",
    "          feature_names=x_train_resampled.columns,\n",
    "          class_names=['Not Readmitted', 'Readmitted'],\n",
    "          rounded=True,\n",
    "          fontsize=10)\n",
    "plt.title(\"Decision Tree Visualization\")\n",
    "plt.show()"
   ],
   "metadata": {
    "id": "Ug-_TwcFl5s4",
    "outputId": "7e9d0320-f637-44be-ca3f-2454ec954d40",
    "colab": {
     "base_uri": "https://localhost:8080/",
     "height": 746
    }
   },
   "outputs": [],
   "execution_count": null
  },
  {
   "cell_type": "code",
   "source": [
    "from sklearn.svm import SVC\n",
    "from sklearn.metrics import accuracy_score, precision_score, recall_score, f1_score, confusion_matrix\n",
    "import matplotlib.pyplot as plt\n",
    "import seaborn as sns\n",
    "\n",
    "# Initialize the SVM model (RBF kernel is default)\n",
    "svm_model = SVC(\n",
    "    kernel='rbf',\n",
    "    C=1.0,\n",
    "    gamma='scale',\n",
    "    class_weight='balanced',\n",
    "    random_state=42\n",
    ")\n",
    "\n",
    "# Train the model on the SMOTE-resampled training data\n",
    "svm_model.fit(x_train_resampled, y_train_resampled)\n",
    "\n",
    "# Predict on the original test set\n",
    "y_pred = svm_model.predict(X_test)\n",
    "\n",
    "# Evaluation\n",
    "print(\"Accuracy     :\", accuracy_score(y_test, y_pred))\n",
    "print(\"Precision    :\", precision_score(y_test, y_pred))\n",
    "print(\"Recall       :\", recall_score(y_test, y_pred))\n",
    "print(\"F1 Score     :\", f1_score(y_test, y_pred))\n"
   ],
   "metadata": {
    "id": "Ncgz9HlVFASt",
    "outputId": "2be95582-17f1-45ac-e45e-17b36897fe56",
    "colab": {
     "base_uri": "https://localhost:8080/"
    }
   },
   "outputs": [],
   "execution_count": null
  },
  {
   "cell_type": "code",
   "source": [
    "cm = confusion_matrix(y_test, y_pred)\n",
    "plt.figure(figsize=(5, 4))\n",
    "sns.heatmap(cm, annot=True, fmt='d', cmap='Blues')\n",
    "plt.xlabel('Predicted')\n",
    "plt.ylabel('Actual')\n",
    "plt.title('Confusion Matrix (SVM)')\n",
    "plt.show()\n"
   ],
   "metadata": {
    "id": "ZRiIqHbJFOLg",
    "outputId": "c7bd2727-b60a-4297-8095-f1932dfb5ebe",
    "colab": {
     "base_uri": "https://localhost:8080/",
     "height": 410
    }
   },
   "outputs": [],
   "execution_count": null
  },
  {
   "cell_type": "code",
   "source": [
    "from sklearn.metrics import classification_report\n",
    "\n",
    "print(\"Classification Report (SVM):\\n\")\n",
    "print(classification_report(y_test, y_pred))"
   ],
   "metadata": {
    "id": "CxnBLJRlFb_E",
    "outputId": "26ffa3e1-12cc-49f5-c7a2-e2ba0537dbf6",
    "colab": {
     "base_uri": "https://localhost:8080/"
    }
   },
   "outputs": [],
   "execution_count": null
  },
  {
   "cell_type": "code",
   "source": [
    "import xgboost as xgb\n",
    "from sklearn.metrics import accuracy_score, precision_score, recall_score, f1_score\n",
    "\n",
    "neg, pos = (y_train_resampled == 0).sum(), (y_train_resampled == 1).sum()\n",
    "scale_pos_weight = (neg / pos) *4\n",
    "model = xgb.XGBClassifier(\n",
    "    use_label_encoder=False,\n",
    "    eval_metric='logloss',\n",
    "    n_estimators=800,\n",
    "    max_depth=7,\n",
    "    learning_rate=0.05,\n",
    "    subsample=0.8,\n",
    "    colsample_bytree=0.8,\n",
    "    scale_pos_weight=scale_pos_weight\n",
    ")\n",
    "\n",
    "model.fit(x_train_resampled, y_train_resampled)\n",
    "\n",
    "y_pred_proba = model.predict_proba(x_test)[:, 1]\n",
    "\n",
    "threshold = 0.3\n",
    "y_pred_thresh = (y_pred_proba >= threshold).astype(int)\n",
    "\n",
    "print(f\"XGBoost Results (Threshold = {threshold}):\")\n",
    "print(\"Accuracy:\", accuracy_score(y_test, y_pred_thresh))\n",
    "print(\"Precision:\", precision_score(y_test, y_pred_thresh))\n",
    "print(\"Recall:\", recall_score(y_test, y_pred_thresh))\n",
    "print(\"F1 Score:\", f1_score(y_test, y_pred_thresh))\n"
   ],
   "metadata": {
    "id": "QXlUQUojd_oP",
    "outputId": "515141f7-b271-4631-8d93-f5688e745746",
    "colab": {
     "base_uri": "https://localhost:8080/"
    }
   },
   "outputs": [],
   "execution_count": null
  },
  {
   "cell_type": "code",
   "source": [
    "import matplotlib.pyplot as plt\n",
    "import seaborn as sns\n",
    "\n",
    "metrics = {\n",
    "    'Accuracy': 0.6348792035935413,\n",
    "    'Precision':  0.11443530291697832,\n",
    "    'Recall': 0.32363828662083555,\n",
    "    'F1 Score': 0.1690841276419395\n",
    "}\n",
    "\n",
    "names = list(metrics.keys())\n",
    "values = list(metrics.values())\n",
    "\n",
    "plt.figure(figsize=(8,6))\n",
    "sns.barplot(x=names, y=values, palette='Blues_d')\n",
    "\n",
    "plt.ylim(0,1)\n",
    "plt.title(\"XGBoost Metrics (Threshold = 0.3)\")\n",
    "plt.ylabel(\"Score\")\n",
    "plt.show()\n"
   ],
   "metadata": {
    "id": "-5Ec0uvReSuQ",
    "outputId": "5b5bf40d-cd29-46c2-ef84-17be36e93bf2",
    "colab": {
     "base_uri": "https://localhost:8080/",
     "height": 632
    }
   },
   "outputs": [],
   "execution_count": null
  },
  {
   "cell_type": "code",
   "source": [
    "from sklearn.metrics import confusion_matrix, ConfusionMatrixDisplay\n",
    "\n",
    "cm = confusion_matrix(y_test, y_pred_thresh)\n",
    "disp = ConfusionMatrixDisplay(confusion_matrix=cm)\n",
    "disp.plot(cmap='Blues')\n",
    "plt.title(f\"Confusion Matrix (Threshold = {threshold})\")\n",
    "plt.show()"
   ],
   "metadata": {
    "id": "0biWJysoebz7",
    "outputId": "4f44b6ef-17ef-4190-8a2a-bbb86846ad7b",
    "colab": {
     "base_uri": "https://localhost:8080/",
     "height": 472
    }
   },
   "outputs": [],
   "execution_count": null
  },
  {
   "cell_type": "code",
   "source": [
    "from sklearn.metrics import precision_recall_curve\n",
    "\n",
    "precision, recall, thresholds = precision_recall_curve(y_test, y_pred_proba)\n",
    "\n",
    "plt.plot(recall, precision, marker='.', label='XGBoost')\n",
    "plt.xlabel('Recall')\n",
    "plt.ylabel('Precision')\n",
    "plt.title('Precision-Recall Curve')\n",
    "plt.legend()\n",
    "plt.grid()\n",
    "plt.show()"
   ],
   "metadata": {
    "id": "0-q8mCjfeiB5",
    "outputId": "f16b4087-5192-4eec-e089-d23605468b9c",
    "colab": {
     "base_uri": "https://localhost:8080/",
     "height": 472
    }
   },
   "outputs": [],
   "execution_count": null
  },
  {
   "cell_type": "code",
   "source": [
    "xgb.plot_importance(model, importance_type='gain', max_num_features=10)\n",
    "plt.title('Top 10 Feature Importances')\n",
    "plt.show()"
   ],
   "metadata": {
    "id": "SqZGIS3lenrT",
    "outputId": "bbb81051-b350-4099-b839-b5fb088a91ec",
    "colab": {
     "base_uri": "https://localhost:8080/",
     "height": 472
    }
   },
   "outputs": [],
   "execution_count": null
  }
 ]
}
